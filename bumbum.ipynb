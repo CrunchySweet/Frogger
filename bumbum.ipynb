{
 "cells": [
  {
   "cell_type": "code",
   "execution_count": 1,
   "id": "2e2c1c1b",
   "metadata": {},
   "outputs": [],
   "source": [
    "import gymnasium as gym\n",
    "import os\n",
    "import ale_py"
   ]
  },
  {
   "cell_type": "code",
   "execution_count": 2,
   "id": "b235ba26",
   "metadata": {},
   "outputs": [
    {
     "name": "stdout",
     "output_type": "stream",
     "text": [
      "Defaulting to user installation because normal site-packages is not writeable\n",
      "Requirement already satisfied: gymnasium[atari] in c:\\users\\mmooreii\\appdata\\roaming\\python\\python39\\site-packages (1.1.1)\n",
      "Requirement already satisfied: cloudpickle>=1.2.0 in c:\\programdata\\anaconda3\\lib\\site-packages (from gymnasium[atari]) (2.0.0)\n",
      "Requirement already satisfied: typing-extensions>=4.3.0 in c:\\programdata\\anaconda3\\lib\\site-packages (from gymnasium[atari]) (4.3.0)\n",
      "Requirement already satisfied: farama-notifications>=0.0.1 in c:\\users\\mmooreii\\appdata\\roaming\\python\\python39\\site-packages (from gymnasium[atari]) (0.0.4)\n",
      "Requirement already satisfied: numpy>=1.21.0 in c:\\programdata\\anaconda3\\lib\\site-packages (from gymnasium[atari]) (1.21.5)\n",
      "Requirement already satisfied: importlib-metadata>=4.8.0 in c:\\programdata\\anaconda3\\lib\\site-packages (from gymnasium[atari]) (4.11.3)\n",
      "Requirement already satisfied: ale_py>=0.9 in c:\\users\\mmooreii\\appdata\\roaming\\python\\python39\\site-packages (from gymnasium[atari]) (0.10.2)\n",
      "Requirement already satisfied: zipp>=0.5 in c:\\programdata\\anaconda3\\lib\\site-packages (from importlib-metadata>=4.8.0->gymnasium[atari]) (3.8.0)\n"
     ]
    }
   ],
   "source": [
    "!pip install gymnasium[atari]"
   ]
  },
  {
   "cell_type": "code",
   "execution_count": 3,
   "id": "29d1b018",
   "metadata": {},
   "outputs": [
    {
     "name": "stdout",
     "output_type": "stream",
     "text": [
      "Defaulting to user installation because normal site-packages is not writeable\n",
      "Requirement already satisfied: ale-py in c:\\users\\mmooreii\\appdata\\roaming\\python\\python39\\site-packages (0.10.2)\n",
      "Requirement already satisfied: numpy>1.20 in c:\\programdata\\anaconda3\\lib\\site-packages (from ale-py) (1.21.5)\n",
      "Requirement already satisfied: typing-extensions in c:\\programdata\\anaconda3\\lib\\site-packages (from ale-py) (4.3.0)\n",
      "Requirement already satisfied: importlib-metadata>=4.10.0 in c:\\programdata\\anaconda3\\lib\\site-packages (from ale-py) (4.11.3)\n",
      "Requirement already satisfied: zipp>=0.5 in c:\\programdata\\anaconda3\\lib\\site-packages (from importlib-metadata>=4.10.0->ale-py) (3.8.0)\n",
      "Defaulting to user installation because normal site-packages is not writeable\n",
      "Requirement already satisfied: gymnasium[accept-rom-license] in c:\\users\\mmooreii\\appdata\\roaming\\python\\python39\\site-packages (1.1.1)\n",
      "Requirement already satisfied: numpy>=1.21.0 in c:\\programdata\\anaconda3\\lib\\site-packages (from gymnasium[accept-rom-license]) (1.21.5)\n",
      "Requirement already satisfied: cloudpickle>=1.2.0 in c:\\programdata\\anaconda3\\lib\\site-packages (from gymnasium[accept-rom-license]) (2.0.0)\n",
      "Requirement already satisfied: farama-notifications>=0.0.1 in c:\\users\\mmooreii\\appdata\\roaming\\python\\python39\\site-packages (from gymnasium[accept-rom-license]) (0.0.4)\n",
      "Requirement already satisfied: typing-extensions>=4.3.0 in c:\\programdata\\anaconda3\\lib\\site-packages (from gymnasium[accept-rom-license]) (4.3.0)\n",
      "Requirement already satisfied: importlib-metadata>=4.8.0 in c:\\programdata\\anaconda3\\lib\\site-packages (from gymnasium[accept-rom-license]) (4.11.3)\n",
      "Requirement already satisfied: zipp>=0.5 in c:\\programdata\\anaconda3\\lib\\site-packages (from importlib-metadata>=4.8.0->gymnasium[accept-rom-license]) (3.8.0)\n"
     ]
    },
    {
     "name": "stderr",
     "output_type": "stream",
     "text": [
      "WARNING: gymnasium 1.1.1 does not provide the extra 'accept-rom-license'\n"
     ]
    }
   ],
   "source": [
    "!pip install ale-py\n",
    "!pip install gymnasium[accept-rom-license]"
   ]
  },
  {
   "cell_type": "code",
   "execution_count": 4,
   "id": "42034218",
   "metadata": {},
   "outputs": [],
   "source": [
    "env = gym.make(\"ALE/Frogger-v5\", render_mode=\"human\")"
   ]
  },
  {
   "cell_type": "code",
   "execution_count": null,
   "id": "3d0358bd",
   "metadata": {},
   "outputs": [],
   "source": []
  }
 ],
 "metadata": {
  "kernelspec": {
   "display_name": "Python 3 (ipykernel)",
   "language": "python",
   "name": "python3"
  },
  "language_info": {
   "codemirror_mode": {
    "name": "ipython",
    "version": 3
   },
   "file_extension": ".py",
   "mimetype": "text/x-python",
   "name": "python",
   "nbconvert_exporter": "python",
   "pygments_lexer": "ipython3",
   "version": "3.9.13"
  }
 },
 "nbformat": 4,
 "nbformat_minor": 5
}
